{
 "cells": [
  {
   "cell_type": "markdown",
   "metadata": {},
   "source": [
    "## Base configuration"
   ]
  },
  {
   "cell_type": "code",
   "execution_count": 1,
   "metadata": {},
   "outputs": [],
   "source": [
    "from typing import TypeVar, Union, List\n",
    "from helpers import listify, fetch_slice, model_url, make_url, make_options, fetch_runs, fetch_df"
   ]
  },
  {
   "cell_type": "code",
   "execution_count": 2,
   "metadata": {},
   "outputs": [],
   "source": [
    "import json\n",
    "import requests\n",
    "import pandas as pd\n",
    "\n",
    "loa=model=current_run=None"
   ]
  },
  {
   "cell_type": "code",
   "execution_count": 3,
   "metadata": {},
   "outputs": [],
   "source": [
    "## To explore helper functions, run this cell\n",
    "import sys\n",
    "if sys.platform.startswith('darwin'):\n",
    "    !open helpers.py\n",
    "if sys.platform.startswith('linux'):\n",
    "    !xdg-open helpers.py\n",
    "if sys.platform.startswith('win'):\n",
    "    #Make the switch to one of the above TODAY and avoid:\n",
    "    !notepad helpers.py"
   ]
  },
  {
   "cell_type": "code",
   "execution_count": 4,
   "metadata": {},
   "outputs": [],
   "source": [
    "api_location = \"http://54.75.57.44:8000\""
   ]
  },
  {
   "cell_type": "markdown",
   "metadata": {},
   "source": [
    "## 1. Fetch what runs are available in the API"
   ]
  },
  {
   "cell_type": "code",
   "execution_count": 5,
   "metadata": {},
   "outputs": [
    {
     "data": {
      "text/plain": [
       "['r_2020_11_01', 'r_2021_01_01']"
      ]
     },
     "execution_count": 5,
     "metadata": {},
     "output_type": "execute_result"
    }
   ],
   "source": [
    "## All runs\n",
    "\n",
    "runs = fetch_runs(api_location)\n",
    "runs"
   ]
  },
  {
   "cell_type": "code",
   "execution_count": 6,
   "metadata": {},
   "outputs": [
    {
     "data": {
      "text/plain": [
       "'r_2021_01_01'"
      ]
     },
     "execution_count": 6,
     "metadata": {},
     "output_type": "execute_result"
    }
   ],
   "source": [
    "## Latest run\n",
    "\n",
    "latest_run = runs[-1]\n",
    "latest_run"
   ]
  },
  {
   "cell_type": "markdown",
   "metadata": {},
   "source": [
    "We will work with the latest_run, but you can just choose whatever run you want."
   ]
  },
  {
   "cell_type": "code",
   "execution_count": 7,
   "metadata": {},
   "outputs": [],
   "source": [
    "chosen_run = latest_run"
   ]
  },
  {
   "cell_type": "markdown",
   "metadata": {},
   "source": [
    "## 2. Explore what model sets do exist and we want"
   ]
  },
  {
   "cell_type": "code",
   "execution_count": 8,
   "metadata": {},
   "outputs": [],
   "source": [
    "# Run this to get what model sets exist\n",
    "_, _, model_tree, model_list, _ = fetch_slice(model_url(api_location,chosen_run))"
   ]
  },
  {
   "cell_type": "markdown",
   "metadata": {},
   "source": [
    "### PGM models\n",
    "#### SB"
   ]
  },
  {
   "cell_type": "code",
   "execution_count": 9,
   "metadata": {},
   "outputs": [
    {
     "data": {
      "text/plain": [
       "[{'parent': '', 'node': 'pgm_sb_main'},\n",
       " {'parent': 'pgm_sb_main', 'node': 'pgm_sb_hist_legacy'},\n",
       " {'parent': 'pgm_sb_main', 'node': 'pgm_sb_allthemes'},\n",
       " {'parent': 'pgm_sb_main', 'node': 'pgm_sb_pgd_natural'},\n",
       " {'parent': 'pgm_sb_main', 'node': 'pgm_sb_pgd_social'},\n",
       " {'parent': 'pgm_sb_main', 'node': 'pgm_sb_sptime'},\n",
       " {'parent': 'pgm_sb_main', 'node': 'pgm_sb_all_gxgb'},\n",
       " {'parent': 'pgm_sb_main', 'node': 'pgm_sb_ds_jpr2020_dummy'},\n",
       " {'parent': 'pgm_sb_main', 'node': 'pgm_sb_crosslevel'},\n",
       " {'parent': 'pgm_sb_main', 'node': 'pgm_sb_onset24_100_all'},\n",
       " {'parent': 'pgm_sb_main', 'node': 'pgm_sb_onset24_1_all'}]"
      ]
     },
     "execution_count": 9,
     "metadata": {},
     "output_type": "execute_result"
    }
   ],
   "source": [
    "model_tree.pgm.sb"
   ]
  },
  {
   "cell_type": "markdown",
   "metadata": {},
   "source": [
    "#### NS"
   ]
  },
  {
   "cell_type": "code",
   "execution_count": 10,
   "metadata": {},
   "outputs": [
    {
     "data": {
      "text/plain": [
       "[{'parent': '', 'node': 'pgm_ns_main'},\n",
       " {'parent': 'pgm_ns_main', 'node': 'pgm_ns_hist_legacy'},\n",
       " {'parent': 'pgm_ns_main', 'node': 'pgm_ns_allthemes'},\n",
       " {'parent': 'pgm_ns_main', 'node': 'pgm_ns_onset24_100_all'},\n",
       " {'parent': 'pgm_ns_main', 'node': 'pgm_ns_onset24_1_all'},\n",
       " {'parent': 'pgm_ns_main', 'node': 'pgm_ns_pgd_natural'},\n",
       " {'parent': 'pgm_ns_main', 'node': 'pgm_ns_pgd_social'},\n",
       " {'parent': 'pgm_ns_main', 'node': 'pgm_ns_sptime'},\n",
       " {'parent': 'pgm_ns_main', 'node': 'pgm_ns_all_gxgb'},\n",
       " {'parent': 'pgm_ns_main', 'node': 'pgm_ns_ds_jpr2020_dummy'},\n",
       " {'parent': 'pgm_ns_main', 'node': 'pgm_ns_crosslevel'}]"
      ]
     },
     "execution_count": 10,
     "metadata": {},
     "output_type": "execute_result"
    }
   ],
   "source": [
    "model_tree.pgm.ns"
   ]
  },
  {
   "cell_type": "markdown",
   "metadata": {},
   "source": [
    "#### OS"
   ]
  },
  {
   "cell_type": "code",
   "execution_count": 11,
   "metadata": {},
   "outputs": [
    {
     "data": {
      "text/plain": [
       "[{'parent': '', 'node': 'pgm_os_main'},\n",
       " {'parent': 'pgm_os_main', 'node': 'pgm_os_hist_legacy'},\n",
       " {'parent': 'pgm_os_main', 'node': 'pgm_os_allthemes'},\n",
       " {'parent': 'pgm_os_main', 'node': 'pgm_os_pgd_natural'},\n",
       " {'parent': 'pgm_os_main', 'node': 'pgm_os_pgd_social'},\n",
       " {'parent': 'pgm_os_main', 'node': 'pgm_os_sptime'},\n",
       " {'parent': 'pgm_os_main', 'node': 'pgm_os_all_gxgb'},\n",
       " {'parent': 'pgm_os_main', 'node': 'pgm_os_crosslevel'},\n",
       " {'parent': 'pgm_os_main', 'node': 'pgm_os_ds_jpr2020_dummy'},\n",
       " {'parent': 'pgm_os_main', 'node': 'pgm_os_onset24_100_all'},\n",
       " {'parent': 'pgm_os_main', 'node': 'pgm_os_onset24_1_all'}]"
      ]
     },
     "execution_count": 11,
     "metadata": {},
     "output_type": "execute_result"
    }
   ],
   "source": [
    "model_tree.pgm.os"
   ]
  },
  {
   "cell_type": "markdown",
   "metadata": {},
   "source": [
    "### CM models\n",
    "#### SB"
   ]
  },
  {
   "cell_type": "code",
   "execution_count": 12,
   "metadata": {},
   "outputs": [
    {
     "data": {
      "text/plain": [
       "[{'parent': '', 'node': 'cm_sb_main'},\n",
       " {'parent': 'cm_sb_main', 'node': 'cm_sb_cflong'},\n",
       " {'parent': 'cm_sb_main', 'node': 'cm_sb_acled_violence'},\n",
       " {'parent': 'cm_sb_main', 'node': 'cm_sb_neibhist'},\n",
       " {'parent': 'cm_sb_main', 'node': 'cm_sb_cdummies'},\n",
       " {'parent': 'cm_sb_main', 'node': 'cm_sb_acled_protest'},\n",
       " {'parent': 'cm_sb_main', 'node': 'cm_sb_reign_coups'},\n",
       " {'parent': 'cm_sb_main', 'node': 'cm_sb_icgcw'},\n",
       " {'parent': 'cm_sb_main', 'node': 'cm_sb_reign_drought'},\n",
       " {'parent': 'cm_sb_main', 'node': 'cm_sb_reign_global'},\n",
       " {'parent': 'cm_sb_main', 'node': 'cm_sb_vdem_global'},\n",
       " {'parent': 'cm_sb_main', 'node': 'cm_sb_demog'},\n",
       " {'parent': 'cm_sb_main', 'node': 'cm_sb_wdi_global'},\n",
       " {'parent': 'cm_sb_main', 'node': 'cm_sb_all_global'},\n",
       " {'parent': 'cm_sb_main', 'node': 'cm_sb_ds_jpr2020_greq_25'},\n",
       " {'parent': 'cm_sb_main', 'node': 'cm_sbonset24_25_all'}]"
      ]
     },
     "execution_count": 12,
     "metadata": {},
     "output_type": "execute_result"
    }
   ],
   "source": [
    "model_tree.cm.sb"
   ]
  },
  {
   "cell_type": "markdown",
   "metadata": {},
   "source": [
    "#### NS"
   ]
  },
  {
   "cell_type": "code",
   "execution_count": 13,
   "metadata": {},
   "outputs": [
    {
     "data": {
      "text/plain": [
       "[{'parent': '', 'node': 'cm_ns_main'},\n",
       " {'parent': 'cm_ns_main', 'node': 'cm_nsonset24_25_all'},\n",
       " {'parent': 'cm_ns_main', 'node': 'cm_ns_cflong'},\n",
       " {'parent': 'cm_ns_main', 'node': 'cm_ns_acled_violence'},\n",
       " {'parent': 'cm_ns_main', 'node': 'cm_ns_neibhist'},\n",
       " {'parent': 'cm_ns_main', 'node': 'cm_ns_cdummies'},\n",
       " {'parent': 'cm_ns_main', 'node': 'cm_ns_acled_protest'},\n",
       " {'parent': 'cm_ns_main', 'node': 'cm_ns_reign_coups'},\n",
       " {'parent': 'cm_ns_main', 'node': 'cm_ns_icgcw'},\n",
       " {'parent': 'cm_ns_main', 'node': 'cm_ns_reign_drought'},\n",
       " {'parent': 'cm_ns_main', 'node': 'cm_ns_reign_global'},\n",
       " {'parent': 'cm_ns_main', 'node': 'cm_ns_vdem_global'},\n",
       " {'parent': 'cm_ns_main', 'node': 'cm_ns_demog'},\n",
       " {'parent': 'cm_ns_main', 'node': 'cm_ns_wdi_global'},\n",
       " {'parent': 'cm_ns_main', 'node': 'cm_ns_all_global'},\n",
       " {'parent': 'cm_ns_main', 'node': 'cm_ns_ds_jpr2020_greq_25'}]"
      ]
     },
     "execution_count": 13,
     "metadata": {},
     "output_type": "execute_result"
    }
   ],
   "source": [
    "model_tree.cm.ns"
   ]
  },
  {
   "cell_type": "markdown",
   "metadata": {},
   "source": [
    "#### OS"
   ]
  },
  {
   "cell_type": "code",
   "execution_count": 14,
   "metadata": {},
   "outputs": [
    {
     "data": {
      "text/plain": [
       "[{'parent': '', 'node': 'cm_os_main'},\n",
       " {'parent': 'cm_os_main', 'node': 'cm_os_cflong'},\n",
       " {'parent': 'cm_os_main', 'node': 'cm_os_acled_violence'},\n",
       " {'parent': 'cm_os_main', 'node': 'cm_os_neibhist'},\n",
       " {'parent': 'cm_os_main', 'node': 'cm_os_cdummies'},\n",
       " {'parent': 'cm_os_main', 'node': 'cm_os_acled_protest'},\n",
       " {'parent': 'cm_os_main', 'node': 'cm_os_reign_coups'},\n",
       " {'parent': 'cm_os_main', 'node': 'cm_os_icgcw'},\n",
       " {'parent': 'cm_os_main', 'node': 'cm_os_reign_drought'},\n",
       " {'parent': 'cm_os_main', 'node': 'cm_os_reign_global'},\n",
       " {'parent': 'cm_os_main', 'node': 'cm_os_vdem_global'},\n",
       " {'parent': 'cm_os_main', 'node': 'cm_os_demog'},\n",
       " {'parent': 'cm_os_main', 'node': 'cm_os_wdi_global'},\n",
       " {'parent': 'cm_os_main', 'node': 'cm_os_all_global'},\n",
       " {'parent': 'cm_os_main', 'node': 'cm_os_ds_jpr2020_greq_25'}]"
      ]
     },
     "execution_count": 14,
     "metadata": {},
     "output_type": "execute_result"
    }
   ],
   "source": [
    "model_tree.cm.os"
   ]
  },
  {
   "cell_type": "code",
   "execution_count": 15,
   "metadata": {},
   "outputs": [
    {
     "data": {
      "text/plain": [
       "['cm_ns_acled_protest',\n",
       " 'cm_ns_acled_violence',\n",
       " 'cm_ns_all_global',\n",
       " 'cm_ns_cdummies',\n",
       " 'cm_ns_cflong',\n",
       " 'cm_ns_demog',\n",
       " 'cm_ns_ds_jpr2020_greq_25',\n",
       " 'cm_ns_icgcw',\n",
       " 'cm_ns_main',\n",
       " 'cm_ns_neibhist',\n",
       " 'cm_ns_reign_coups',\n",
       " 'cm_ns_reign_drought',\n",
       " 'cm_ns_reign_global',\n",
       " 'cm_ns_vdem_global',\n",
       " 'cm_ns_wdi_global',\n",
       " 'cm_nsonset24_25_all',\n",
       " 'cm_os_acled_protest',\n",
       " 'cm_os_acled_violence',\n",
       " 'cm_os_all_global',\n",
       " 'cm_os_cdummies',\n",
       " 'cm_os_cflong',\n",
       " 'cm_os_demog',\n",
       " 'cm_os_ds_jpr2020_greq_25',\n",
       " 'cm_os_icgcw',\n",
       " 'cm_os_main',\n",
       " 'cm_os_neibhist',\n",
       " 'cm_os_reign_coups',\n",
       " 'cm_os_reign_drought',\n",
       " 'cm_os_reign_global',\n",
       " 'cm_os_vdem_global',\n",
       " 'cm_os_wdi_global',\n",
       " 'cm_sb_acled_protest',\n",
       " 'cm_sb_acled_violence',\n",
       " 'cm_sb_all_global',\n",
       " 'cm_sb_cdummies',\n",
       " 'cm_sb_cflong',\n",
       " 'cm_sb_demog',\n",
       " 'cm_sb_ds_jpr2020_greq_25',\n",
       " 'cm_sb_icgcw',\n",
       " 'cm_sb_main',\n",
       " 'cm_sb_neibhist',\n",
       " 'cm_sb_reign_coups',\n",
       " 'cm_sb_reign_drought',\n",
       " 'cm_sb_reign_global',\n",
       " 'cm_sb_vdem_global',\n",
       " 'cm_sb_wdi_global',\n",
       " 'cm_sbonset24_25_all',\n",
       " 'pgm_ns_all_gxgb',\n",
       " 'pgm_ns_allthemes',\n",
       " 'pgm_ns_crosslevel',\n",
       " 'pgm_ns_ds_jpr2020_dummy',\n",
       " 'pgm_ns_hist_legacy',\n",
       " 'pgm_ns_main',\n",
       " 'pgm_ns_onset24_100_all',\n",
       " 'pgm_ns_onset24_1_all',\n",
       " 'pgm_ns_pgd_natural',\n",
       " 'pgm_ns_pgd_social',\n",
       " 'pgm_ns_sptime',\n",
       " 'pgm_os_all_gxgb',\n",
       " 'pgm_os_allthemes',\n",
       " 'pgm_os_crosslevel',\n",
       " 'pgm_os_ds_jpr2020_dummy',\n",
       " 'pgm_os_hist_legacy',\n",
       " 'pgm_os_main',\n",
       " 'pgm_os_onset24_100_all',\n",
       " 'pgm_os_onset24_1_all',\n",
       " 'pgm_os_pgd_natural',\n",
       " 'pgm_os_pgd_social',\n",
       " 'pgm_os_sptime',\n",
       " 'pgm_sb_all_gxgb',\n",
       " 'pgm_sb_allthemes',\n",
       " 'pgm_sb_crosslevel',\n",
       " 'pgm_sb_ds_jpr2020_dummy',\n",
       " 'pgm_sb_hist_legacy',\n",
       " 'pgm_sb_main',\n",
       " 'pgm_sb_onset24_100_all',\n",
       " 'pgm_sb_onset24_1_all',\n",
       " 'pgm_sb_pgd_natural',\n",
       " 'pgm_sb_pgd_social',\n",
       " 'pgm_sb_sptime']"
      ]
     },
     "execution_count": 15,
     "metadata": {},
     "output_type": "execute_result"
    }
   ],
   "source": [
    "#Or, you can just get a model list with all the models like this\n",
    "list(model_list[0])"
   ]
  },
  {
   "cell_type": "markdown",
   "metadata": {},
   "source": [
    "There are other options that can be used to explore data, but for that, you will need to delve deeper in the API. Full tree representations exist at each node and leaf, for example"
   ]
  },
  {
   "cell_type": "markdown",
   "metadata": {},
   "source": [
    "# 3. Retrieval paths\n",
    "\n",
    "In order to get data you need to make a retrieval URL (a path).\n",
    "\n",
    "Retrieval paths control what data you get from each API call. \n",
    "\n",
    "**There are three options:**\n",
    "\n",
    "1. You can retrieve data for ALL the models belonging to a whole level of analysis (LOA), i.e. all PGM or all CM models. To do that, you only specify the LOA in the path (i.e. `$PATH/cm` or `$PATH/pgm`)\n",
    "2. You can retrieve data for ALL the models belonging to a single type of violence in a single LOA, by adding the type of violence to the LOA path (e.g. `$PATH/cm/sb` or `$PATH/pgm/ns`) \n",
    "3. You can retrieve data for A SINGLE MODEL, by appending the model name to the path above (e.g. `$PATH/cm/sb/cm_sb_main`)\n",
    "\n",
    "Here's how to do it:\n",
    "\n"
   ]
  },
  {
   "cell_type": "code",
   "execution_count": 16,
   "metadata": {},
   "outputs": [
    {
     "name": "stdout",
     "output_type": "stream",
     "text": [
      "http://54.75.57.44:8000/r_2021_01_01/pgm/sb/pgm_sb_main\n"
     ]
    }
   ],
   "source": [
    "# To get all CM: \n",
    "loa = 'pgm'\n",
    "\n",
    "# To get all PGM:\n",
    "#loa = 'pgm'\n",
    "\n",
    "#If you want to get only one type of violence within a CM or PGM\n",
    "#You NEED to specify a LOA above.\n",
    "\n",
    "#State_based:\n",
    "tv = 'sb'\n",
    "\n",
    "#Non_state:\n",
    "#tv = 'ns'\n",
    "\n",
    "#One_sided:\n",
    "#tv = 'os'\n",
    "\n",
    "#If you want to get ONLY a specific model specify a model here.\n",
    "#It needs to be in the correct LOA and TV. You can see the models above.\n",
    "model = 'pgm_sb_main'\n",
    "\n",
    "url = make_url(base=api_location, run=latest_run, loa=loa, tv=tv, model=model)\n",
    "print (url)"
   ]
  },
  {
   "cell_type": "markdown",
   "metadata": {},
   "source": [
    "If you want to get multiple models at the same time, you have two options.\n",
    "\n",
    "1. Get a full type of violence at a time, and filter out the models you do not need.\n",
    "2. Call the API multiple times, once per model, and merge the resulting data.\n",
    "\n",
    "Method 1. will be *__MUCH__* faster as no merge needs to happen.\n",
    "\n",
    "At the end of this document, there are a few examples of both approaches"
   ]
  },
  {
   "cell_type": "markdown",
   "metadata": {},
   "source": [
    "##### Other examples:\n",
    "\n",
    "Fetch all state-based country-month models:"
   ]
  },
  {
   "cell_type": "code",
   "execution_count": 17,
   "metadata": {},
   "outputs": [],
   "source": [
    "#url = make_url(base=api_location, run=latest_run, loa='cm', tv='sb', model=None)\n",
    "#print (url)"
   ]
  },
  {
   "cell_type": "markdown",
   "metadata": {},
   "source": [
    "Fetch all pgm models:"
   ]
  },
  {
   "cell_type": "code",
   "execution_count": 18,
   "metadata": {},
   "outputs": [
    {
     "name": "stdout",
     "output_type": "stream",
     "text": [
      "http://54.75.57.44:8000/r_2021_01_01/pgm\n"
     ]
    }
   ],
   "source": [
    "url = make_url(base=api_location, run=latest_run, loa='pgm', tv=None, model=None)\n",
    "print (url)"
   ]
  },
  {
   "cell_type": "markdown",
   "metadata": {},
   "source": [
    "# 4. Filters"
   ]
  },
  {
   "cell_type": "markdown",
   "metadata": {},
   "source": [
    "You can also filter data within the API. Examples follow for what kinds of filters exist."
   ]
  },
  {
   "cell_type": "markdown",
   "metadata": {},
   "source": [
    "## Spatial filters\n",
    "\n",
    "For normal use, you should only use one of these at a time, as they are concatenated with \"AND\". Select which one you want to use by changing the use_filter."
   ]
  },
  {
   "cell_type": "code",
   "execution_count": 19,
   "metadata": {},
   "outputs": [],
   "source": [
    "sp_filter={}\n",
    "\n",
    "#Choose the filter you want: iso, gwno, countryid, priogrid, latlon, bbox.\n",
    "#If you do not want to use any filter, set this to False.\n",
    "\n",
    "use_sp_filter = 'iso' \n",
    "\n",
    "#Specify what to filter on. You only need to change the filter you have chosen.\n",
    "\n",
    "#ISO : Filter by ISO country codes. Supply either a string or a list.\n",
    "sp_filter['iso'] = ['DZA','EGY']\n",
    "\n",
    "#GWNO : Filter by GWNO country code. Supply either a number or a list.\n",
    "sp_filter['gwno'] = ['626','651']\n",
    "\n",
    "#ViEWS country IDs. Supply either a number or a list.\n",
    "sp_filter['countryid'] = 127\n",
    "\n",
    "#PrioGRID. Supply either a number or a list\n",
    "sp_filter['priogrid'] = 146522\n",
    "\n",
    "#Latitude and Longitude. Supply a float for either lat or lon.\n",
    "sp_filter['lat'] = -19.2\n",
    "sp_filter['lon'] =  29.4\n",
    "\n",
    "#Bounding Box (bbox). Supply the coordinates of two opposite (extreme corners). \n",
    "#We suggest you use the SW and NE corners, but the system is smart enough to work with any two opposites.\n",
    "#And you can actually supply them in any order (it's even fine if you do NE in SW and SW in NE!)\n",
    "\n",
    "bbox={}\n",
    "bbox['lat_sw'] = -1\n",
    "bbox['lon_sw'] = 30\n",
    "bbox['lat_ne'] = 10\n",
    "bbox['lon_ne'] = 31"
   ]
  },
  {
   "cell_type": "markdown",
   "metadata": {},
   "source": [
    "## Temporal filters\n",
    "\n",
    "For normal use, you should only use one of these at a time, as they are concatenated with \"AND\". Select which one you want to use by changing the use_filter."
   ]
  },
  {
   "cell_type": "code",
   "execution_count": 20,
   "metadata": {},
   "outputs": [],
   "source": [
    "t_filter={}\n",
    "\n",
    "#Choose the filter you want: month or dates\n",
    "#If you do not want to use any filter, set this to False.\n",
    "\n",
    "use_t_filter = 'dates'\n",
    "\n",
    "#month_id. Specify a ViEWS month_id or a list of them\n",
    "\n",
    "t_filter['month'] = [500,501,502]\n",
    "\n",
    "#dates. Specify a Date Start and a Date End. \n",
    "#You can actually specify any DAY for date_start and date_end,\n",
    "#It will always know to go from 1 to 28/29/30/31.\n",
    "t_filter['date_start'] = '2021-05-01'\n",
    "t_filter['date_end'] = '2021-07-30'"
   ]
  },
  {
   "cell_type": "markdown",
   "metadata": {},
   "source": [
    "## Other options\n",
    "\n",
    "Normally, you don't need to change these, but here they go."
   ]
  },
  {
   "cell_type": "code",
   "execution_count": 21,
   "metadata": {},
   "outputs": [],
   "source": [
    "other={}\n",
    "# Do you want the steps?\n",
    "# If you want the individual steps for the one step ahead models, set steps to true. \n",
    "# The model is smart enough so that if you specify a Dynasim model and steps, it knows how to handle it well.\n",
    "# If you specify steps, this will be A LOT of data. It may be wise to set the page_size to lower (100 or 500).\n",
    "other['steps'] = False\n",
    "\n",
    "# Do you want data, or just metadata, i.e. what models are related (i.e. get a tree of ensemble/components)?\n",
    "other['data'] = True\n",
    "\n",
    "# What page size do you want? None will leave it to the API to decide.\n",
    "other['page_size'] = None\n",
    "\n",
    "# Do you want any custom string to be added as parameters?\n",
    "\n",
    "other['custom'] = None"
   ]
  },
  {
   "cell_type": "markdown",
   "metadata": {},
   "source": [
    "#### And use the above options to make the options part of the url"
   ]
  },
  {
   "cell_type": "code",
   "execution_count": 22,
   "metadata": {},
   "outputs": [],
   "source": [
    "url_options = make_options(use_sp_filter=use_sp_filter, sp_filter=sp_filter,\n",
    "             use_t_filter=use_t_filter, t_filter=t_filter, \n",
    "             other=other)"
   ]
  },
  {
   "cell_type": "code",
   "execution_count": 23,
   "metadata": {},
   "outputs": [
    {
     "data": {
      "text/plain": [
       "'?iso=DZA&iso=EGY&date_start=2021-05-01&date_end=2021-07-30'"
      ]
     },
     "execution_count": 23,
     "metadata": {},
     "output_type": "execute_result"
    }
   ],
   "source": [
    "url_options"
   ]
  },
  {
   "cell_type": "markdown",
   "metadata": {},
   "source": [
    "# 5. Fetching data"
   ]
  },
  {
   "cell_type": "markdown",
   "metadata": {},
   "source": [
    "First, you need to combine the path URL with the URL options. \n",
    "If you don't need any options, you can either just call `url_options()` with no parameters, set url_options to the empty string `''` or just not concatenate url_options to the end of the url. All three work."
   ]
  },
  {
   "cell_type": "code",
   "execution_count": 24,
   "metadata": {},
   "outputs": [
    {
     "name": "stdout",
     "output_type": "stream",
     "text": [
      "http://54.75.57.44:8000/r_2021_01_01/pgm?iso=DZA&iso=EGY&date_start=2021-05-01&date_end=2021-07-30\n"
     ]
    }
   ],
   "source": [
    "fetch_url = url+url_options\n",
    "print(fetch_url)"
   ]
  },
  {
   "cell_type": "markdown",
   "metadata": {},
   "source": [
    "#### And finally, you can fetch data"
   ]
  },
  {
   "cell_type": "code",
   "execution_count": 25,
   "metadata": {},
   "outputs": [
    {
     "name": "stdout",
     "output_type": "stream",
     "text": [
      "Fetching :  http://54.75.57.44:8000/r_2021_01_01/pgm?iso=DZA&iso=EGY&date_start=2021-05-01&date_end=2021-07-30\n",
      "Fetching :  http://54.75.57.44:8000/r_2021_01_01/pgm?iso=DZA&iso=EGY&date_start=2021-05-01&date_end=2021-07-30&page=2\n",
      "Fetching :  http://54.75.57.44:8000/r_2021_01_01/pgm?iso=DZA&iso=EGY&date_start=2021-05-01&date_end=2021-07-30&page=3\n",
      "Fetching :  http://54.75.57.44:8000/r_2021_01_01/pgm?iso=DZA&iso=EGY&date_start=2021-05-01&date_end=2021-07-30&page=4\n"
     ]
    }
   ],
   "source": [
    "df = fetch_df(fetch_url)"
   ]
  },
  {
   "cell_type": "code",
   "execution_count": 26,
   "metadata": {},
   "outputs": [
    {
     "data": {
      "text/html": [
       "<div>\n",
       "<style scoped>\n",
       "    .dataframe tbody tr th:only-of-type {\n",
       "        vertical-align: middle;\n",
       "    }\n",
       "\n",
       "    .dataframe tbody tr th {\n",
       "        vertical-align: top;\n",
       "    }\n",
       "\n",
       "    .dataframe thead th {\n",
       "        text-align: right;\n",
       "    }\n",
       "</style>\n",
       "<table border=\"1\" class=\"dataframe\">\n",
       "  <thead>\n",
       "    <tr style=\"text-align: right;\">\n",
       "      <th></th>\n",
       "      <th>pg_id</th>\n",
       "      <th>month_id</th>\n",
       "      <th>sc_pgm_os_main</th>\n",
       "      <th>sc_pgm_ns_onset24_1_all</th>\n",
       "      <th>sc_pgm_sb_allthemes</th>\n",
       "      <th>sc_pgm_sb_crosslevel</th>\n",
       "      <th>sc_pgm_os_sptime</th>\n",
       "      <th>sc_pgm_ns_pgd_natural</th>\n",
       "      <th>sc_pgm_sb_main</th>\n",
       "      <th>sc_pgm_sb_all_gxgb</th>\n",
       "      <th>...</th>\n",
       "      <th>sc_pgm_sb_onset24_1_all</th>\n",
       "      <th>sc_pgm_os_allthemes</th>\n",
       "      <th>sc_pgm_os_hist_legacy</th>\n",
       "      <th>sc_pgm_os_all_gxgb</th>\n",
       "      <th>pgm_sb_ds_jpr2020_dummy</th>\n",
       "      <th>sc_pgm_sb_pgd_natural</th>\n",
       "      <th>sc_pgm_os_pgd_social</th>\n",
       "      <th>sc_pgm_os_crosslevel</th>\n",
       "      <th>sc_pgm_ns_allthemes</th>\n",
       "      <th>sc_pgm_ns_main</th>\n",
       "    </tr>\n",
       "  </thead>\n",
       "  <tbody>\n",
       "    <tr>\n",
       "      <th>0</th>\n",
       "      <td>170999</td>\n",
       "      <td>497</td>\n",
       "      <td>0.0007</td>\n",
       "      <td>0.0000</td>\n",
       "      <td>0.0000</td>\n",
       "      <td>0.0</td>\n",
       "      <td>0.0000</td>\n",
       "      <td>0.0009</td>\n",
       "      <td>0.0023</td>\n",
       "      <td>0.0011</td>\n",
       "      <td>...</td>\n",
       "      <td>0.000</td>\n",
       "      <td>0.0000</td>\n",
       "      <td>0.0003</td>\n",
       "      <td>0.0001</td>\n",
       "      <td>0.000</td>\n",
       "      <td>0.0451</td>\n",
       "      <td>0.0</td>\n",
       "      <td>0.0000</td>\n",
       "      <td>0.0012</td>\n",
       "      <td>0.0009</td>\n",
       "    </tr>\n",
       "    <tr>\n",
       "      <th>1</th>\n",
       "      <td>170999</td>\n",
       "      <td>498</td>\n",
       "      <td>0.0009</td>\n",
       "      <td>0.0000</td>\n",
       "      <td>0.0000</td>\n",
       "      <td>0.0</td>\n",
       "      <td>0.0003</td>\n",
       "      <td>0.0007</td>\n",
       "      <td>0.0023</td>\n",
       "      <td>0.0012</td>\n",
       "      <td>...</td>\n",
       "      <td>0.000</td>\n",
       "      <td>0.0001</td>\n",
       "      <td>0.0003</td>\n",
       "      <td>0.0001</td>\n",
       "      <td>0.000</td>\n",
       "      <td>0.0443</td>\n",
       "      <td>0.0</td>\n",
       "      <td>0.0000</td>\n",
       "      <td>0.0008</td>\n",
       "      <td>0.0007</td>\n",
       "    </tr>\n",
       "    <tr>\n",
       "      <th>2</th>\n",
       "      <td>170999</td>\n",
       "      <td>499</td>\n",
       "      <td>0.0010</td>\n",
       "      <td>0.0000</td>\n",
       "      <td>0.0000</td>\n",
       "      <td>0.0</td>\n",
       "      <td>0.0007</td>\n",
       "      <td>0.0004</td>\n",
       "      <td>0.0023</td>\n",
       "      <td>0.0013</td>\n",
       "      <td>...</td>\n",
       "      <td>0.000</td>\n",
       "      <td>0.0001</td>\n",
       "      <td>0.0004</td>\n",
       "      <td>0.0001</td>\n",
       "      <td>0.000</td>\n",
       "      <td>0.0436</td>\n",
       "      <td>0.0</td>\n",
       "      <td>0.0000</td>\n",
       "      <td>0.0004</td>\n",
       "      <td>0.0006</td>\n",
       "    </tr>\n",
       "    <tr>\n",
       "      <th>3</th>\n",
       "      <td>167387</td>\n",
       "      <td>497</td>\n",
       "      <td>0.0007</td>\n",
       "      <td>0.0020</td>\n",
       "      <td>0.0000</td>\n",
       "      <td>0.0</td>\n",
       "      <td>0.0030</td>\n",
       "      <td>0.0015</td>\n",
       "      <td>0.0009</td>\n",
       "      <td>0.0011</td>\n",
       "      <td>...</td>\n",
       "      <td>0.000</td>\n",
       "      <td>0.0000</td>\n",
       "      <td>0.0003</td>\n",
       "      <td>0.0002</td>\n",
       "      <td>0.000</td>\n",
       "      <td>0.0014</td>\n",
       "      <td>0.0</td>\n",
       "      <td>0.0000</td>\n",
       "      <td>0.0007</td>\n",
       "      <td>0.0014</td>\n",
       "    </tr>\n",
       "    <tr>\n",
       "      <th>4</th>\n",
       "      <td>167387</td>\n",
       "      <td>498</td>\n",
       "      <td>0.0007</td>\n",
       "      <td>0.0017</td>\n",
       "      <td>0.0000</td>\n",
       "      <td>0.0</td>\n",
       "      <td>0.0023</td>\n",
       "      <td>0.0012</td>\n",
       "      <td>0.0011</td>\n",
       "      <td>0.0013</td>\n",
       "      <td>...</td>\n",
       "      <td>0.000</td>\n",
       "      <td>0.0000</td>\n",
       "      <td>0.0003</td>\n",
       "      <td>0.0002</td>\n",
       "      <td>0.001</td>\n",
       "      <td>0.0016</td>\n",
       "      <td>0.0</td>\n",
       "      <td>0.0000</td>\n",
       "      <td>0.0004</td>\n",
       "      <td>0.0014</td>\n",
       "    </tr>\n",
       "    <tr>\n",
       "      <th>...</th>\n",
       "      <td>...</td>\n",
       "      <td>...</td>\n",
       "      <td>...</td>\n",
       "      <td>...</td>\n",
       "      <td>...</td>\n",
       "      <td>...</td>\n",
       "      <td>...</td>\n",
       "      <td>...</td>\n",
       "      <td>...</td>\n",
       "      <td>...</td>\n",
       "      <td>...</td>\n",
       "      <td>...</td>\n",
       "      <td>...</td>\n",
       "      <td>...</td>\n",
       "      <td>...</td>\n",
       "      <td>...</td>\n",
       "      <td>...</td>\n",
       "      <td>...</td>\n",
       "      <td>...</td>\n",
       "      <td>...</td>\n",
       "      <td>...</td>\n",
       "    </tr>\n",
       "    <tr>\n",
       "      <th>3769</th>\n",
       "      <td>169611</td>\n",
       "      <td>498</td>\n",
       "      <td>0.0003</td>\n",
       "      <td>0.0000</td>\n",
       "      <td>0.0000</td>\n",
       "      <td>0.0</td>\n",
       "      <td>0.0000</td>\n",
       "      <td>0.0000</td>\n",
       "      <td>0.0020</td>\n",
       "      <td>0.0012</td>\n",
       "      <td>...</td>\n",
       "      <td>0.001</td>\n",
       "      <td>0.0000</td>\n",
       "      <td>0.0003</td>\n",
       "      <td>0.0002</td>\n",
       "      <td>0.001</td>\n",
       "      <td>0.0000</td>\n",
       "      <td>0.0</td>\n",
       "      <td>0.0000</td>\n",
       "      <td>0.0000</td>\n",
       "      <td>0.0004</td>\n",
       "    </tr>\n",
       "    <tr>\n",
       "      <th>3770</th>\n",
       "      <td>169611</td>\n",
       "      <td>499</td>\n",
       "      <td>0.0003</td>\n",
       "      <td>0.0000</td>\n",
       "      <td>0.0000</td>\n",
       "      <td>0.0</td>\n",
       "      <td>0.0000</td>\n",
       "      <td>0.0000</td>\n",
       "      <td>0.0015</td>\n",
       "      <td>0.0012</td>\n",
       "      <td>...</td>\n",
       "      <td>0.001</td>\n",
       "      <td>0.0000</td>\n",
       "      <td>0.0004</td>\n",
       "      <td>0.0002</td>\n",
       "      <td>0.001</td>\n",
       "      <td>0.0000</td>\n",
       "      <td>0.0</td>\n",
       "      <td>0.0000</td>\n",
       "      <td>0.0000</td>\n",
       "      <td>0.0004</td>\n",
       "    </tr>\n",
       "    <tr>\n",
       "      <th>3771</th>\n",
       "      <td>170344</td>\n",
       "      <td>497</td>\n",
       "      <td>0.0004</td>\n",
       "      <td>0.0000</td>\n",
       "      <td>0.0003</td>\n",
       "      <td>0.0</td>\n",
       "      <td>0.0000</td>\n",
       "      <td>0.0000</td>\n",
       "      <td>0.0008</td>\n",
       "      <td>0.0022</td>\n",
       "      <td>...</td>\n",
       "      <td>0.000</td>\n",
       "      <td>0.0001</td>\n",
       "      <td>0.0003</td>\n",
       "      <td>0.0006</td>\n",
       "      <td>0.000</td>\n",
       "      <td>0.0006</td>\n",
       "      <td>0.0</td>\n",
       "      <td>0.0001</td>\n",
       "      <td>0.0002</td>\n",
       "      <td>0.0022</td>\n",
       "    </tr>\n",
       "    <tr>\n",
       "      <th>3772</th>\n",
       "      <td>170344</td>\n",
       "      <td>498</td>\n",
       "      <td>0.0005</td>\n",
       "      <td>0.0003</td>\n",
       "      <td>0.0002</td>\n",
       "      <td>0.0</td>\n",
       "      <td>0.0007</td>\n",
       "      <td>0.0000</td>\n",
       "      <td>0.0012</td>\n",
       "      <td>0.0023</td>\n",
       "      <td>...</td>\n",
       "      <td>0.001</td>\n",
       "      <td>0.0001</td>\n",
       "      <td>0.0003</td>\n",
       "      <td>0.0006</td>\n",
       "      <td>0.001</td>\n",
       "      <td>0.0006</td>\n",
       "      <td>0.0</td>\n",
       "      <td>0.0000</td>\n",
       "      <td>0.0001</td>\n",
       "      <td>0.0017</td>\n",
       "    </tr>\n",
       "    <tr>\n",
       "      <th>3773</th>\n",
       "      <td>170344</td>\n",
       "      <td>499</td>\n",
       "      <td>0.0007</td>\n",
       "      <td>0.0007</td>\n",
       "      <td>0.0001</td>\n",
       "      <td>0.0</td>\n",
       "      <td>0.0013</td>\n",
       "      <td>0.0000</td>\n",
       "      <td>0.0016</td>\n",
       "      <td>0.0023</td>\n",
       "      <td>...</td>\n",
       "      <td>0.002</td>\n",
       "      <td>0.0000</td>\n",
       "      <td>0.0004</td>\n",
       "      <td>0.0006</td>\n",
       "      <td>0.003</td>\n",
       "      <td>0.0006</td>\n",
       "      <td>0.0</td>\n",
       "      <td>0.0000</td>\n",
       "      <td>0.0001</td>\n",
       "      <td>0.0012</td>\n",
       "    </tr>\n",
       "  </tbody>\n",
       "</table>\n",
       "<p>3774 rows × 35 columns</p>\n",
       "</div>"
      ],
      "text/plain": [
       "       pg_id  month_id  sc_pgm_os_main  sc_pgm_ns_onset24_1_all  \\\n",
       "0     170999       497          0.0007                   0.0000   \n",
       "1     170999       498          0.0009                   0.0000   \n",
       "2     170999       499          0.0010                   0.0000   \n",
       "3     167387       497          0.0007                   0.0020   \n",
       "4     167387       498          0.0007                   0.0017   \n",
       "...      ...       ...             ...                      ...   \n",
       "3769  169611       498          0.0003                   0.0000   \n",
       "3770  169611       499          0.0003                   0.0000   \n",
       "3771  170344       497          0.0004                   0.0000   \n",
       "3772  170344       498          0.0005                   0.0003   \n",
       "3773  170344       499          0.0007                   0.0007   \n",
       "\n",
       "      sc_pgm_sb_allthemes  sc_pgm_sb_crosslevel  sc_pgm_os_sptime  \\\n",
       "0                  0.0000                   0.0            0.0000   \n",
       "1                  0.0000                   0.0            0.0003   \n",
       "2                  0.0000                   0.0            0.0007   \n",
       "3                  0.0000                   0.0            0.0030   \n",
       "4                  0.0000                   0.0            0.0023   \n",
       "...                   ...                   ...               ...   \n",
       "3769               0.0000                   0.0            0.0000   \n",
       "3770               0.0000                   0.0            0.0000   \n",
       "3771               0.0003                   0.0            0.0000   \n",
       "3772               0.0002                   0.0            0.0007   \n",
       "3773               0.0001                   0.0            0.0013   \n",
       "\n",
       "      sc_pgm_ns_pgd_natural  sc_pgm_sb_main  sc_pgm_sb_all_gxgb  ...  \\\n",
       "0                    0.0009          0.0023              0.0011  ...   \n",
       "1                    0.0007          0.0023              0.0012  ...   \n",
       "2                    0.0004          0.0023              0.0013  ...   \n",
       "3                    0.0015          0.0009              0.0011  ...   \n",
       "4                    0.0012          0.0011              0.0013  ...   \n",
       "...                     ...             ...                 ...  ...   \n",
       "3769                 0.0000          0.0020              0.0012  ...   \n",
       "3770                 0.0000          0.0015              0.0012  ...   \n",
       "3771                 0.0000          0.0008              0.0022  ...   \n",
       "3772                 0.0000          0.0012              0.0023  ...   \n",
       "3773                 0.0000          0.0016              0.0023  ...   \n",
       "\n",
       "      sc_pgm_sb_onset24_1_all  sc_pgm_os_allthemes  sc_pgm_os_hist_legacy  \\\n",
       "0                       0.000               0.0000                 0.0003   \n",
       "1                       0.000               0.0001                 0.0003   \n",
       "2                       0.000               0.0001                 0.0004   \n",
       "3                       0.000               0.0000                 0.0003   \n",
       "4                       0.000               0.0000                 0.0003   \n",
       "...                       ...                  ...                    ...   \n",
       "3769                    0.001               0.0000                 0.0003   \n",
       "3770                    0.001               0.0000                 0.0004   \n",
       "3771                    0.000               0.0001                 0.0003   \n",
       "3772                    0.001               0.0001                 0.0003   \n",
       "3773                    0.002               0.0000                 0.0004   \n",
       "\n",
       "      sc_pgm_os_all_gxgb  pgm_sb_ds_jpr2020_dummy  sc_pgm_sb_pgd_natural  \\\n",
       "0                 0.0001                    0.000                 0.0451   \n",
       "1                 0.0001                    0.000                 0.0443   \n",
       "2                 0.0001                    0.000                 0.0436   \n",
       "3                 0.0002                    0.000                 0.0014   \n",
       "4                 0.0002                    0.001                 0.0016   \n",
       "...                  ...                      ...                    ...   \n",
       "3769              0.0002                    0.001                 0.0000   \n",
       "3770              0.0002                    0.001                 0.0000   \n",
       "3771              0.0006                    0.000                 0.0006   \n",
       "3772              0.0006                    0.001                 0.0006   \n",
       "3773              0.0006                    0.003                 0.0006   \n",
       "\n",
       "      sc_pgm_os_pgd_social  sc_pgm_os_crosslevel  sc_pgm_ns_allthemes  \\\n",
       "0                      0.0                0.0000               0.0012   \n",
       "1                      0.0                0.0000               0.0008   \n",
       "2                      0.0                0.0000               0.0004   \n",
       "3                      0.0                0.0000               0.0007   \n",
       "4                      0.0                0.0000               0.0004   \n",
       "...                    ...                   ...                  ...   \n",
       "3769                   0.0                0.0000               0.0000   \n",
       "3770                   0.0                0.0000               0.0000   \n",
       "3771                   0.0                0.0001               0.0002   \n",
       "3772                   0.0                0.0000               0.0001   \n",
       "3773                   0.0                0.0000               0.0001   \n",
       "\n",
       "      sc_pgm_ns_main  \n",
       "0             0.0009  \n",
       "1             0.0007  \n",
       "2             0.0006  \n",
       "3             0.0014  \n",
       "4             0.0014  \n",
       "...              ...  \n",
       "3769          0.0004  \n",
       "3770          0.0004  \n",
       "3771          0.0022  \n",
       "3772          0.0017  \n",
       "3773          0.0012  \n",
       "\n",
       "[3774 rows x 35 columns]"
      ]
     },
     "execution_count": 26,
     "metadata": {},
     "output_type": "execute_result"
    }
   ],
   "source": [
    "df"
   ]
  }
 ],
 "metadata": {
  "kernelspec": {
   "display_name": "Python 3",
   "language": "python",
   "name": "python3"
  },
  "language_info": {
   "codemirror_mode": {
    "name": "ipython",
    "version": 3
   },
   "file_extension": ".py",
   "mimetype": "text/x-python",
   "name": "python",
   "nbconvert_exporter": "python",
   "pygments_lexer": "ipython3",
   "version": "3.8.0"
  }
 },
 "nbformat": 4,
 "nbformat_minor": 4
}
